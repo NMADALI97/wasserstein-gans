{
 "cells": [
  {
   "cell_type": "code",
   "execution_count": 0,
   "metadata": {
    "colab": {
     "autoexec": {
      "startup": false,
      "wait_interval": 0
     }
    },
    "colab_type": "code",
    "id": "mJy7N-Vk70Ue"
   },
   "outputs": [],
   "source": [
    "import os\n",
    "import uuid\n",
    "import yaml\n",
    "\n",
    "from sklearn import preprocessing\n",
    "import numpy as np\n",
    "import tensorflow as tf\n",
    "import matplotlib.pyplot as plt\n",
    "from utils.common_utils import cleanup, create_gif_from_images, generateSamples, restore_checkpoint_status, save_images, save_model_state\n",
    "\n",
    "\n",
    "# set the tensorflow verbosity\n",
    "tf.logging.set_verbosity(tf.logging.DEBUG)"
   ]
  },
  {
   "cell_type": "code",
   "execution_count": 4,
   "metadata": {
    "colab": {
     "autoexec": {
      "startup": false,
      "wait_interval": 0
     },
     "base_uri": "https://localhost:8080/",
     "height": 487
    },
    "colab_type": "code",
    "executionInfo": {
     "elapsed": 12662,
     "status": "ok",
     "timestamp": 1532258856317,
     "user": {
      "displayName": "Kushagra Pandey",
      "photoUrl": "https://lh3.googleusercontent.com/a/default-user=s128",
      "userId": "112878703133540303765"
     },
     "user_tz": -330
    },
    "id": "US9f2soW70Ul",
    "outputId": "16889767-0a53-4e0c-9d07-d19fff8d4f2e"
   },
   "outputs": [
    {
     "name": "stdout",
     "output_type": "stream",
     "text": [
      "WARNING:tensorflow:From <ipython-input-4-2cf56d89dc3a>:1: load_dataset (from tensorflow.contrib.learn.python.learn.datasets) is deprecated and will be removed in a future version.\n",
      "Instructions for updating:\n",
      "Please use tf.data.\n",
      "WARNING:tensorflow:From /usr/local/lib/python3.6/dist-packages/tensorflow/contrib/learn/python/learn/datasets/__init__.py:80: load_mnist (from tensorflow.contrib.learn.python.learn.datasets.mnist) is deprecated and will be removed in a future version.\n",
      "Instructions for updating:\n",
      "Please use alternatives such as official/mnist/dataset.py from tensorflow/models.\n",
      "WARNING:tensorflow:From /usr/local/lib/python3.6/dist-packages/tensorflow/contrib/learn/python/learn/datasets/mnist.py:300: read_data_sets (from tensorflow.contrib.learn.python.learn.datasets.mnist) is deprecated and will be removed in a future version.\n",
      "Instructions for updating:\n",
      "Please use alternatives such as official/mnist/dataset.py from tensorflow/models.\n",
      "WARNING:tensorflow:From /usr/local/lib/python3.6/dist-packages/tensorflow/contrib/learn/python/learn/datasets/mnist.py:260: maybe_download (from tensorflow.contrib.learn.python.learn.datasets.base) is deprecated and will be removed in a future version.\n",
      "Instructions for updating:\n",
      "Please write your own downloading logic.\n",
      "WARNING:tensorflow:From /usr/local/lib/python3.6/dist-packages/tensorflow/contrib/learn/python/learn/datasets/mnist.py:262: extract_images (from tensorflow.contrib.learn.python.learn.datasets.mnist) is deprecated and will be removed in a future version.\n",
      "Instructions for updating:\n",
      "Please use tf.data to implement this functionality.\n",
      "Extracting MNIST-data/train-images-idx3-ubyte.gz\n",
      "WARNING:tensorflow:From /usr/local/lib/python3.6/dist-packages/tensorflow/contrib/learn/python/learn/datasets/mnist.py:267: extract_labels (from tensorflow.contrib.learn.python.learn.datasets.mnist) is deprecated and will be removed in a future version.\n",
      "Instructions for updating:\n",
      "Please use tf.data to implement this functionality.\n",
      "Extracting MNIST-data/train-labels-idx1-ubyte.gz\n",
      "Extracting MNIST-data/t10k-images-idx3-ubyte.gz\n",
      "Extracting MNIST-data/t10k-labels-idx1-ubyte.gz\n",
      "WARNING:tensorflow:From /usr/local/lib/python3.6/dist-packages/tensorflow/contrib/learn/python/learn/datasets/mnist.py:290: DataSet.__init__ (from tensorflow.contrib.learn.python.learn.datasets.mnist) is deprecated and will be removed in a future version.\n",
      "Instructions for updating:\n",
      "Please use alternatives such as official/mnist/dataset.py from tensorflow/models.\n"
     ]
    }
   ],
   "source": [
    "# get the mnist dataset from tensorflow\n",
    "mnist = tf.contrib.learn.datasets.load_dataset('mnist')\n",
    "training_data = mnist.train.images\n",
    "testing_data = mnist.test.images\n",
    "validation_data = mnist.validation.images"
   ]
  },
  {
   "cell_type": "code",
   "execution_count": 0,
   "metadata": {
    "colab": {
     "autoexec": {
      "startup": false,
      "wait_interval": 0
     }
    },
    "colab_type": "code",
    "id": "lUqn-pvl70Uq"
   },
   "outputs": [],
   "source": [
    "NUM_DIMS = 28\n",
    "NUM_SAMPLES = training_data.shape[0]\n",
    "FLATTENED_DIMS = 784\n",
    "\n",
    "\"\"\"\n",
    "Defines the experiment id for a experiment.\n",
    "Make sure to update the experiment id when running the code using a new set of hyperparameters\n",
    "\"\"\"\n",
    "experiment_id = '5'\n",
    "# specify the directory where to save the samples generated by the generator\n",
    "SRC_DIR = './model_data_wgan/experiment_{}'.format(experiment_id)"
   ]
  },
  {
   "cell_type": "code",
   "execution_count": 6,
   "metadata": {
    "colab": {
     "autoexec": {
      "startup": false,
      "wait_interval": 0
     },
     "base_uri": "https://localhost:8080/",
     "height": 325
    },
    "colab_type": "code",
    "executionInfo": {
     "elapsed": 1721,
     "status": "ok",
     "timestamp": 1532258859841,
     "user": {
      "displayName": "Kushagra Pandey",
      "photoUrl": "https://lh3.googleusercontent.com/a/default-user=s128",
      "userId": "112878703133540303765"
     },
     "user_tz": -330
    },
    "id": "xbypXA-O70Uw",
    "outputId": "996fcaab-6c6b-4446-ef75-50aca4f2d119"
   },
   "outputs": [
    {
     "data": {
      "image/png": "[encoded data removed]",
      "text/plain": [
       "<matplotlib.figure.Figure at 0x7f0ec8797da0>"
      ]
     },
     "metadata": {
      "tags": []
     },
     "output_type": "display_data"
    }
   ],
   "source": [
    "save_images(training_data[0:9,:], show=True, dpi=125)"
   ]
  },
  {
   "cell_type": "code",
   "execution_count": 0,
   "metadata": {
    "colab": {
     "autoexec": {
      "startup": false,
      "wait_interval": 0
     }
    },
    "colab_type": "code",
    "id": "m_HCE0fC70U0"
   },
   "outputs": [],
   "source": [
    "\"\"\"\n",
    "starting_learning_rate : learning_rate used during the training procedure\n",
    "c_max : Upper limit for weight clipping\n",
    "c_min : Lower limit for weight clipping\n",
    "k : The number of steps used to train the discriminator or critic\n",
    "noise_dim : The number of dimensions of the noise input to the generator net\n",
    "dropout_rate : The rate of dropout used in the dicriminator network\n",
    "num_steps: The number of steps to train the nets for\n",
    "m : The number of samples used for training the nets (half of the batch size)\n",
    "noise_variance : The variance of noise for sampling noise samples\n",
    "\"\"\"\n",
    "# define the learning hyperparameters as a dictionary\n",
    "config = {\n",
    "    \"starting_learning_rate\":0.0002,\n",
    "    \"c_max\":0.05,\n",
    "    \"c_min\":-0.05,\n",
    "    \"initial_k\":100,\n",
    "    \"init_point\":1,\n",
    "    \"k\":5,\n",
    "    \"noise_dim\":100,\n",
    "    \"decay_steps\":10000,\n",
    "    \"decay_rate\":0.96,\n",
    "    \"num_steps\":10000,\n",
    "    \"m\":64,\n",
    "    \"noise_variance\":0.02,\n",
    "\n",
    "    # define the layer hyperparameters\n",
    "    \"gen_layers_units\":{\n",
    "        \"projection_dim\" : 16,\n",
    "        \"deconv_1\" : 512,\n",
    "        \"deconv_2\" : 256,\n",
    "        \"deconv_3\" : 128\n",
    "    },\n",
    "    \"dis_layers_units\":{\n",
    "        \"conv_1\" : 128,\n",
    "        \"conv_2\" : 256,\n",
    "        \"conv_3\" : 512\n",
    "    },\n",
    "    \"special_comments\": 'Trained with initializing the disc with some initial iterations to provide a good starting point \\\n",
    "                         Also changed the clipping values to loosen the Lipschitz bound'\n",
    "}\n",
    "\n",
    "global_step = tf.Variable(0, trainable=False)\n",
    "learning_rate = tf.train.exponential_decay(config['starting_learning_rate'], \n",
    "                                           global_step, \n",
    "                                           config['decay_steps'], \n",
    "                                           config['decay_rate'], \n",
    "                                           staircase=True)"
   ]
  },
  {
   "cell_type": "code",
   "execution_count": 0,
   "metadata": {
    "colab": {
     "autoexec": {
      "startup": false,
      "wait_interval": 0
     }
    },
    "colab_type": "code",
    "id": "aY8X4cpa70U2"
   },
   "outputs": [],
   "source": [
    "# define the input placeholders\n",
    "X = tf.placeholder(dtype=tf.float32, shape=(None, NUM_DIMS, NUM_DIMS, 1), name='Training-input')\n",
    "Z = tf.placeholder(dtype=tf.float32, shape=(None, config['noise_dim']), name='Noise-input')\n",
    "batch_norm = tf.placeholder(dtype=tf.bool, name='Generator-batchnorm')\n",
    "\n",
    "# define the clipping scalars\n",
    "C_MAX = tf.constant(config['c_max'], dtype=tf.float32, name='Clipping_max_factor')\n",
    "C_MIN = tf.constant(config['c_min'], dtype=tf.float32, name='Clipping_min_factor')\n",
    "\n",
    "# this noise sample is used to visualize the generator learning over time\n",
    "base_noise_sample = tf.Variable(np.random.normal(size=(9, config['noise_dim']), scale=config['noise_variance']), \n",
    "                                dtype=tf.float32, \n",
    "                                expected_shape=(9, config['noise_dim']))"
   ]
  },
  {
   "cell_type": "code",
   "execution_count": 0,
   "metadata": {
    "colab": {
     "autoexec": {
      "startup": false,
      "wait_interval": 0
     }
    },
    "colab_type": "code",
    "id": "uNueD6D970U4"
   },
   "outputs": [],
   "source": [
    "def generator(noise_samples):\n",
    "    \n",
    "    with tf.variable_scope('GEN', reuse=tf.AUTO_REUSE):\n",
    "        \n",
    "        # project the noise to a vector\n",
    "        projected_samples = tf.layers.dense(noise_samples, 16, activation=tf.nn.relu)\n",
    "        \n",
    "        # reshape the projected samples to a 4D tensor\n",
    "        noise_input = tf.reshape(projected_samples, [-1, 4, 4, 1])\n",
    "        \n",
    "        # define the generator network\n",
    "        \n",
    "        ####  First conv layer ####\n",
    "        outputg_conv_1 = tf.layers.conv2d_transpose(noise_input, filters=config['gen_layers_units']['deconv_1'], kernel_size=(4, 4), activation=tf.nn.relu)\n",
    "        outputg_batchnorm_1 = tf.layers.batch_normalization(outputg_conv_1, scale=False, training=batch_norm)\n",
    "        \n",
    "        ####  Second conv layer ####\n",
    "        outputg_conv_2 = tf.layers.conv2d_transpose(outputg_batchnorm_1, filters=config['gen_layers_units']['deconv_2'], kernel_size=(4, 4), activation=tf.nn.relu)\n",
    "        \n",
    "        ####  Third conv layer ####\n",
    "        outputg_conv_3 = tf.layers.conv2d_transpose(outputg_conv_2, filters=config['gen_layers_units']['deconv_3'], kernel_size=(4, 4), activation=tf.nn.relu)\n",
    "        \n",
    "        # the output of the generator network\n",
    "        outputg = tf.layers.conv2d_transpose(outputg_conv_3, filters=1, kernel_size=(4, 4), strides=(2, 2), activation=tf.nn.tanh)\n",
    "    \n",
    "    return outputg"
   ]
  },
  {
   "cell_type": "code",
   "execution_count": 0,
   "metadata": {
    "colab": {
     "autoexec": {
      "startup": false,
      "wait_interval": 0
     }
    },
    "colab_type": "code",
    "id": "9OPWRoq670U8"
   },
   "outputs": [],
   "source": [
    "def discriminator(x):\n",
    "    \n",
    "    with tf.variable_scope('DIS', reuse=tf.AUTO_REUSE):\n",
    "        \n",
    "        # define the discriminator network\n",
    "        \n",
    "        ####  First conv layer ####\n",
    "        outputd_conv_1 = tf.layers.conv2d(x, filters=config['dis_layers_units']['conv_1'], kernel_size=(4, 4), strides=(2, 2), activation=tf.nn.leaky_relu)\n",
    "#         outputd_dropout_1 = tf.layers.dropout(outputd_conv_1, rate=config['dropout_rate'], training=True)\n",
    "        \n",
    "        ####  Second conv layer ####\n",
    "        outputd_conv_2 = tf.layers.conv2d(outputd_conv_1, filters=config['dis_layers_units']['conv_2'], kernel_size=(4, 4), activation=tf.nn.leaky_relu)\n",
    "        \n",
    "        ####  Third conv layer ####\n",
    "        outputd_conv_3 = tf.layers.conv2d(outputd_conv_2, filters=config['dis_layers_units']['conv_3'], kernel_size=(4, 4), activation=tf.nn.leaky_relu)\n",
    "        outputd_flatten_3 = tf.layers.flatten(outputd_conv_3)\n",
    "        \n",
    "        # the output of the discriminator network (The classification probability)\n",
    "        logit = tf.layers.dense(outputd_flatten_3, 1, activation=None)\n",
    "        outputd = tf.nn.sigmoid(logit)\n",
    "    \n",
    "    return (logit, outputd)"
   ]
  },
  {
   "cell_type": "code",
   "execution_count": 11,
   "metadata": {
    "colab": {
     "autoexec": {
      "startup": false,
      "wait_interval": 0
     },
     "base_uri": "https://localhost:8080/",
     "height": 53
    },
    "colab_type": "code",
    "executionInfo": {
     "elapsed": 7785,
     "status": "ok",
     "timestamp": 1532258872638,
     "user": {
      "displayName": "Kushagra Pandey",
      "photoUrl": "https://lh3.googleusercontent.com/a/default-user=s128",
      "userId": "112878703133540303765"
     },
     "user_tz": -330
    },
    "id": "XI1R_bU370VP",
    "outputId": "685e7bb8-e8dc-42d6-8407-0838efb34c53"
   },
   "outputs": [
    {
     "name": "stdout",
     "output_type": "stream",
     "text": [
      "Checkpoint found for this experiment.Restoring variables.....\n",
      "INFO:tensorflow:Restoring parameters from ./model_data_wgan/experiment_5/checkpoints/model-5.ckpt\n"
     ]
    }
   ],
   "source": [
    "# define the network ops\n",
    "generator_output = generator(Z)\n",
    "d_real_logit, d_real_output = discriminator(X)\n",
    "d_fake_logit, d_fake_output = discriminator(generator_output)\n",
    "\n",
    "# define the loss ops\n",
    "D_loss = tf.reduce_mean(d_real_logit - d_fake_logit)\n",
    "G_loss = tf.reduce_mean(d_fake_logit)\n",
    "\n",
    "# define the optimizer ops\n",
    "gen_vars = tf.get_collection(tf.GraphKeys.GLOBAL_VARIABLES,scope=\"GEN\")\n",
    "disc_vars = tf.get_collection(tf.GraphKeys.GLOBAL_VARIABLES,scope=\"DIS\")\n",
    "\n",
    "clipping_op = [var.assign(tf.clip_by_value(var, C_MIN, C_MAX)) for\n",
    "                                         var in disc_vars]\n",
    "\n",
    "# define the update ops to run batch normalization\n",
    "update_ops = tf.get_collection(tf.GraphKeys.UPDATE_OPS)\n",
    "with tf.control_dependencies(update_ops):\n",
    "    d_optimizer = tf.train.RMSPropOptimizer(learning_rate=learning_rate).minimize(D_loss, var_list=disc_vars)\n",
    "    g_optimizer = tf.train.RMSPropOptimizer(learning_rate=learning_rate).minimize(G_loss, var_list=gen_vars)\n",
    "\n",
    "# define the session variable\n",
    "saver = tf.train.Saver()\n",
    "checkpoint_path = os.path.join(SRC_DIR, 'checkpoints', 'model-{}.ckpt'.format(experiment_id))\n",
    "tmp_dir_path = os.path.join(SRC_DIR, 'tmp')\n",
    "\n",
    "sess = tf.InteractiveSession()\n",
    "\n",
    "# restore the checkpoint status for this experiment\n",
    "status = restore_checkpoint_status(saver, sess, checkpoint_path)\n",
    "if not status:\n",
    "    sess.run(tf.global_variables_initializer())\n",
    "    # remove the contents of the tmp location\n",
    "    if(os.path.exists(tmp_dir_path)):\n",
    "        cleanup(tmp_dir_path)\n",
    "    \n",
    "# define the optimization procedure\n",
    "def optimize():\n",
    "        \n",
    "    for epoch_idx in range(config[\"num_steps\"]):\n",
    "        status = epoch_idx % 500\n",
    "        k = config['initial_k']\n",
    "        if epoch_idx > config['init_point']:\n",
    "          k = config['k']\n",
    "        for train_idx in range(k):\n",
    "      \n",
    "            training_batch, _ = mnist.train.next_batch(batch_size=config['m'])\n",
    "            training_batch = np.reshape(training_batch, newshape=(config['m'], NUM_DIMS, NUM_DIMS, 1))\n",
    "#             optimize the discriminator network\n",
    "            _, discriminator_loss, _ = sess.run([d_optimizer, D_loss, clipping_op], feed_dict={Z:generateSamples(config['m'], config['noise_dim'], config['noise_variance']), \n",
    "                                                                               X:training_batch, \n",
    "                                                                               batch_norm:True})\n",
    "\n",
    "            if(status == 0):\n",
    "              print('Step {}: D-Loss:{}'.format(epoch_idx, discriminator_loss))\n",
    "                \n",
    "#         optimize the generator network\n",
    "        _, generator_loss = sess.run([g_optimizer, G_loss], feed_dict={Z:generateSamples(config['m'], config['noise_dim'], config['noise_variance']), \n",
    "                                                                       batch_norm:True})\n",
    "        \n",
    "        if(epoch_idx % 100 == 0):\n",
    "            # run the generator on a small number of samples\n",
    "            generator_sample_output = sess.run(generator_output, feed_dict={Z:sess.run(base_noise_sample), batch_norm:False})\n",
    "#             save the image\n",
    "            img_id = str(uuid.uuid4())\n",
    "            save_images(generator_sample_output, tmp_path=tmp_dir_path, save=True, id=str(uuid.uuid4())[:5], dpi=125)\n",
    "    \n",
    "        if(status == 0):\n",
    "            print('Step {}: G-Loss:{}'.format(epoch_idx, generator_loss))\n",
    "#             checkpoint the training\n",
    "            save_model_state(saver, sess, checkpoint_path)"
   ]
  },
  {
   "cell_type": "code",
   "execution_count": 12,
   "metadata": {
    "colab": {
     "autoexec": {
      "startup": false,
      "wait_interval": 0
     },
     "base_uri": "https://localhost:8080/",
     "height": 3887
    },
    "colab_type": "code",
    "executionInfo": {
     "elapsed": 6344296,
     "status": "ok",
     "timestamp": 1532265216977,
     "user": {
      "displayName": "Kushagra Pandey",
      "photoUrl": "https://lh3.googleusercontent.com/a/default-user=s128",
      "userId": "112878703133540303765"
     },
     "user_tz": -330
    },
    "id": "lGRfpytZ70VS",
    "outputId": "65b8f669-b9e8-4bb6-c060-a57f03ac425d"
   },
   "outputs": [
    {
     "name": "stdout",
     "output_type": "stream",
     "text": [
      "Step 0: D-Loss:-2835.303466796875\n",
      "Step 0: D-Loss:-2276.114501953125\n",
      "Step 0: D-Loss:-3055.68994140625\n",
      "Step 0: D-Loss:-2787.3125\n",
      "Step 0: D-Loss:-774.0115966796875\n",
      "Step 0: D-Loss:-2728.407958984375\n",
      "Step 0: D-Loss:-5031.904296875\n",
      "Step 0: D-Loss:-1519.4141845703125\n",
      "Step 0: D-Loss:-6852.41259765625\n",
      "Step 0: D-Loss:-21.247314453125\n",
      "Step 0: D-Loss:-9823.296875\n",
      "Step 0: D-Loss:-3709.521484375\n",
      "Step 0: D-Loss:-5650.0341796875\n",
      "Step 0: D-Loss:-3895.86572265625\n",
      "Step 0: D-Loss:-3469.7978515625\n",
      "Step 0: D-Loss:-5664.97265625\n",
      "Step 0: D-Loss:-4898.7890625\n",
      "Step 0: D-Loss:-7057.484375\n",
      "Step 0: D-Loss:-7449.3369140625\n",
      "Step 0: D-Loss:-7004.84375\n",
      "Step 0: D-Loss:-18537.841796875\n",
      "Step 0: D-Loss:-11843.1689453125\n",
      "Step 0: D-Loss:-6151.857421875\n",
      "Step 0: D-Loss:-12694.03125\n",
      "Step 0: D-Loss:-13268.666015625\n",
      "Step 0: D-Loss:-8374.74609375\n",
      "Step 0: D-Loss:-10203.078125\n",
      "Step 0: D-Loss:-4227.005859375\n",
      "Step 0: D-Loss:-8964.115234375\n",
      "Step 0: D-Loss:-14151.279296875\n",
      "Step 0: D-Loss:-6369.83203125\n",
      "Step 0: D-Loss:-12686.9931640625\n",
      "Step 0: D-Loss:-12606.1572265625\n",
      "Step 0: D-Loss:-15441.1640625\n",
      "Step 0: D-Loss:-6304.9619140625\n",
      "Step 0: D-Loss:-11771.568359375\n",
      "Step 0: D-Loss:-21439.271484375\n",
      "Step 0: D-Loss:-15891.7734375\n",
      "Step 0: D-Loss:-21929.578125\n",
      "Step 0: D-Loss:-17080.333984375\n",
      "Step 0: D-Loss:-14772.3271484375\n",
      "Step 0: D-Loss:-12964.634765625\n",
      "Step 0: D-Loss:-5782.70458984375\n",
      "Step 0: D-Loss:-15033.919921875\n",
      "Step 0: D-Loss:-11246.134765625\n",
      "Step 0: D-Loss:-20272.296875\n",
      "Step 0: D-Loss:-18983.921875\n",
      "Step 0: D-Loss:-20141.0234375\n",
      "Step 0: D-Loss:-8034.8056640625\n",
      "Step 0: D-Loss:-10849.4306640625\n",
      "Step 0: D-Loss:-11878.705078125\n",
      "Step 0: D-Loss:-25033.744140625\n",
      "Step 0: D-Loss:-16752.23828125\n",
      "Step 0: D-Loss:-5714.2705078125\n",
      "Step 0: D-Loss:-24921.185546875\n",
      "Step 0: D-Loss:-21548.60546875\n",
      "Step 0: D-Loss:-7960.8642578125\n",
      "Step 0: D-Loss:-26501.7734375\n",
      "Step 0: D-Loss:-13366.072265625\n",
      "Step 0: D-Loss:-31178.73046875\n",
      "Step 0: D-Loss:-21534.25390625\n",
      "Step 0: D-Loss:-8703.873046875\n",
      "Step 0: D-Loss:-23800.26953125\n",
      "Step 0: D-Loss:-24028.419921875\n",
      "Step 0: D-Loss:-16028.37890625\n",
      "Step 0: D-Loss:-16797.921875\n",
      "Step 0: D-Loss:-25437.740234375\n",
      "Step 0: D-Loss:-19385.384765625\n",
      "Step 0: D-Loss:-12631.650390625\n",
      "Step 0: D-Loss:-16612.048828125\n",
      "Step 0: D-Loss:-11523.8115234375\n",
      "Step 0: D-Loss:-30815.15625\n",
      "Step 0: D-Loss:-14307.80859375\n",
      "Step 0: D-Loss:-7679.83154296875\n",
      "Step 0: D-Loss:-17179.23828125\n",
      "Step 0: D-Loss:-925.835693359375\n",
      "Step 0: D-Loss:-1135.44970703125\n",
      "Step 0: D-Loss:-17253.59765625\n",
      "Step 0: D-Loss:-16507.109375\n",
      "Step 0: D-Loss:-15409.208984375\n",
      "Step 0: D-Loss:-8221.9892578125\n",
      "Step 0: D-Loss:-11710.658203125\n",
      "Step 0: D-Loss:4791.5166015625\n",
      "Step 0: D-Loss:-3403.389892578125\n",
      "Step 0: D-Loss:-4662.3623046875\n",
      "Step 0: D-Loss:-7845.49072265625\n",
      "Step 0: D-Loss:-23628.9296875\n",
      "Step 0: D-Loss:-24888.587890625\n",
      "Step 0: D-Loss:-2092.6298828125\n",
      "Step 0: D-Loss:-13742.7783203125\n",
      "Step 0: D-Loss:2796.28955078125\n",
      "Step 0: D-Loss:-14084.951171875\n",
      "Step 0: D-Loss:-4522.04736328125\n",
      "Step 0: D-Loss:-7114.32177734375\n",
      "Step 0: D-Loss:-20016.28515625\n",
      "Step 0: D-Loss:805.6505126953125\n",
      "Step 0: D-Loss:-16497.984375\n",
      "Step 0: D-Loss:-16549.814453125\n",
      "Step 0: D-Loss:-8.8310546875\n",
      "Step 0: D-Loss:-15200.455078125\n",
      "Step 0: G-Loss:52971.53515625\n",
      "Step 500: D-Loss:-2086.18310546875\n",
      "Step 500: D-Loss:1264.74560546875\n",
      "Step 500: D-Loss:1054.9407958984375\n",
      "Step 500: D-Loss:-652.0845947265625\n",
      "Step 500: D-Loss:-1680.2784423828125\n",
      "Step 500: G-Loss:-95366.828125\n",
      "Step 1000: D-Loss:-1313.1571044921875\n",
      "Step 1000: D-Loss:-901.15380859375\n",
      "Step 1000: D-Loss:-2544.48876953125\n",
      "Step 1000: D-Loss:-1304.736328125\n",
      "Step 1000: D-Loss:-2701.9384765625\n",
      "Step 1000: G-Loss:-65041.4609375\n",
      "Step 1500: D-Loss:-614.80615234375\n",
      "Step 1500: D-Loss:-2480.91162109375\n",
      "Step 1500: D-Loss:-4015.72705078125\n",
      "Step 1500: D-Loss:-4422.6376953125\n",
      "Step 1500: D-Loss:-446.020263671875\n",
      "Step 1500: G-Loss:-155963.875\n",
      "Step 2000: D-Loss:2611.460205078125\n",
      "Step 2000: D-Loss:2494.42138671875\n",
      "Step 2000: D-Loss:564.8555908203125\n",
      "Step 2000: D-Loss:-1345.44677734375\n",
      "Step 2000: D-Loss:-1964.2296142578125\n",
      "Step 2000: G-Loss:-112024.09375\n",
      "Step 2500: D-Loss:-400.972412109375\n",
      "Step 2500: D-Loss:-4135.517578125\n",
      "Step 2500: D-Loss:-4.524169921875\n",
      "Step 2500: D-Loss:483.20001220703125\n",
      "Step 2500: D-Loss:-2291.679931640625\n",
      "Step 2500: G-Loss:-36946.4375\n",
      "Step 3000: D-Loss:-543.79638671875\n",
      "Step 3000: D-Loss:-1147.304443359375\n",
      "Step 3000: D-Loss:-2341.22509765625\n",
      "Step 3000: D-Loss:-2478.9521484375\n",
      "Step 3000: D-Loss:-4070.966064453125\n",
      "Step 3000: G-Loss:-134937.1875\n",
      "Step 3500: D-Loss:-10496.197265625\n",
      "Step 3500: D-Loss:3187.624267578125\n",
      "Step 3500: D-Loss:1277.311767578125\n",
      "Step 3500: D-Loss:-5256.0693359375\n",
      "Step 3500: D-Loss:-6838.0009765625\n",
      "Step 3500: G-Loss:-199636.578125\n",
      "Step 4000: D-Loss:-1047.6788330078125\n",
      "Step 4000: D-Loss:-984.8995361328125\n",
      "Step 4000: D-Loss:-1888.6024169921875\n",
      "Step 4000: D-Loss:-1810.1075439453125\n",
      "Step 4000: D-Loss:-3035.0322265625\n",
      "Step 4000: G-Loss:-46628.7109375\n",
      "Step 4500: D-Loss:-1246.6734619140625\n",
      "Step 4500: D-Loss:-1691.785888671875\n",
      "Step 4500: D-Loss:53.45306396484375\n",
      "Step 4500: D-Loss:1140.08203125\n",
      "Step 4500: D-Loss:-1353.890869140625\n",
      "Step 4500: G-Loss:-75401.046875\n",
      "Step 5000: D-Loss:-1378.8458251953125\n",
      "Step 5000: D-Loss:-1453.54541015625\n",
      "Step 5000: D-Loss:-3257.828125\n",
      "Step 5000: D-Loss:-2455.183349609375\n",
      "Step 5000: D-Loss:-4915.0703125\n",
      "Step 5000: G-Loss:-29239.00390625\n",
      "Step 5500: D-Loss:1687.968505859375\n",
      "Step 5500: D-Loss:-235.1846923828125\n",
      "Step 5500: D-Loss:-361.77294921875\n",
      "Step 5500: D-Loss:-1305.5123291015625\n",
      "Step 5500: D-Loss:-1506.5574951171875\n",
      "Step 5500: G-Loss:-77420.765625\n",
      "Step 6000: D-Loss:1244.183837890625\n",
      "Step 6000: D-Loss:-397.9239501953125\n",
      "Step 6000: D-Loss:-1453.7974853515625\n",
      "Step 6000: D-Loss:-1652.61279296875\n",
      "Step 6000: D-Loss:-3137.8544921875\n",
      "Step 6000: G-Loss:-39840.03125\n",
      "Step 6500: D-Loss:-842.188720703125\n",
      "Step 6500: D-Loss:-463.70452880859375\n",
      "Step 6500: D-Loss:-1700.3927001953125\n",
      "Step 6500: D-Loss:-407.6839599609375\n",
      "Step 6500: D-Loss:-901.45849609375\n",
      "Step 6500: G-Loss:-78878.609375\n",
      "Step 7000: D-Loss:5888.7861328125\n",
      "Step 7000: D-Loss:2746.74755859375\n",
      "Step 7000: D-Loss:-440.223876953125\n",
      "Step 7000: D-Loss:65.145263671875\n",
      "Step 7000: D-Loss:59.430419921875\n",
      "Step 7000: G-Loss:-82881.1875\n",
      "Step 7500: D-Loss:-1449.7596435546875\n",
      "Step 7500: D-Loss:-2326.530517578125\n",
      "Step 7500: D-Loss:-2737.01416015625\n",
      "Step 7500: D-Loss:-2735.43994140625\n",
      "Step 7500: D-Loss:-6899.7158203125\n",
      "Step 7500: G-Loss:-14124.390625\n",
      "Step 8000: D-Loss:2613.89306640625\n",
      "Step 8000: D-Loss:-1083.68896484375\n",
      "Step 8000: D-Loss:-86.049560546875\n",
      "Step 8000: D-Loss:-1159.408447265625\n",
      "Step 8000: D-Loss:-1650.133544921875\n",
      "Step 8000: G-Loss:-102049.8046875\n",
      "Step 8500: D-Loss:-988.1109619140625\n",
      "Step 8500: D-Loss:-1385.3204345703125\n",
      "Step 8500: D-Loss:2095.93505859375\n",
      "Step 8500: D-Loss:-622.97119140625\n",
      "Step 8500: D-Loss:-2598.827880859375\n",
      "Step 8500: G-Loss:-113537.8125\n",
      "Step 9000: D-Loss:-999.7857666015625\n",
      "Step 9000: D-Loss:-116.102294921875\n",
      "Step 9000: D-Loss:-566.6787109375\n",
      "Step 9000: D-Loss:-1422.9970703125\n",
      "Step 9000: D-Loss:-1969.16943359375\n",
      "Step 9000: G-Loss:-58667.34765625\n",
      "Step 9500: D-Loss:90.7042236328125\n",
      "Step 9500: D-Loss:-62.7955322265625\n",
      "Step 9500: D-Loss:-1107.9027099609375\n",
      "Step 9500: D-Loss:-917.9942626953125\n",
      "Step 9500: D-Loss:-1102.78125\n",
      "Step 9500: G-Loss:-88003.203125\n"
     ]
    }
   ],
   "source": [
    "optimize()"
   ]
  },
  {
   "cell_type": "code",
   "execution_count": 13,
   "metadata": {
    "colab": {
     "autoexec": {
      "startup": false,
      "wait_interval": 0
     },
     "base_uri": "https://localhost:8080/",
     "height": 592
    },
    "colab_type": "code",
    "executionInfo": {
     "elapsed": 69701,
     "status": "ok",
     "timestamp": 1532265286695,
     "user": {
      "displayName": "Kushagra Pandey",
      "photoUrl": "https://lh3.googleusercontent.com/a/default-user=s128",
      "userId": "112878703133540303765"
     },
     "user_tz": -330
    },
    "id": "n5IObjW070VW",
    "outputId": "86120ae7-bc6a-487e-aa5c-aecdac69ab63"
   },
   "outputs": [
    {
     "name": "stdout",
     "output_type": "stream",
     "text": [
      "Creating gif from the images\n"
     ]
    },
    {
     "data": {
      "image/png": "[encoded data removed]",
      "text/plain": [
       "<matplotlib.figure.Figure at 0x7f0e7a2dfa90>"
      ]
     },
     "metadata": {
      "tags": []
     },
     "output_type": "display_data"
    }
   ],
   "source": [
    "def plot_test_images(session, generator_op):\n",
    "    \n",
    "    noise_test = np.random.normal(scale=config['noise_variance'], size=(100, config['noise_dim']))\n",
    "    images = sess.run(generator_op, feed_dict={Z:noise_test, batch_norm:False})\n",
    "    # plot the generated test images\n",
    "    save_images(images, show=True)\n",
    "    \n",
    "plot_test_images(sess, generator_output)\n",
    "\n",
    "# create a gif of the images in the directory and store\n",
    "src = os.path.join(SRC_DIR, 'tmp')\n",
    "dst = os.path.join(SRC_DIR, 'gifs/visualization.gif')\n",
    "create_gif_from_images(src, dst)\n",
    "\n",
    "# save the network configuration to a file\n",
    "config_file = os.path.join(SRC_DIR, 'config.yaml')\n",
    "with open(config_file, 'w') as writer:\n",
    "    yaml.dump(config, writer, default_flow_style=False)\n",
    "    \n",
    "# cleanup(os.path.join(SRC_DIR, 'tmp'))\n",
    "# cleanup(os.path.join(SRC_DIR, 'gifs'))\n",
    "# cleanup(os.path.join(SRC_DIR, 'checkpoints'))"
   ]
  },
  {
   "cell_type": "code",
   "execution_count": 0,
   "metadata": {
    "colab": {
     "autoexec": {
      "startup": false,
      "wait_interval": 0
     }
    },
    "colab_type": "code",
    "id": "GEgGIDLL70VX"
   },
   "outputs": [],
   "source": []
  }
 ],
 "metadata": {
  "accelerator": "GPU",
  "colab": {
   "collapsed_sections": [],
   "default_view": {},
   "name": "WGAN.ipynb",
   "provenance": [
    {
     "file_id": "1XDjpL8OiIXUvugj0r-mzQy660S0v2IdA",
     "timestamp": 1531809041213
    }
   ],
   "version": "0.3.2",
   "views": {}
  },
  "kernelspec": {
   "display_name": "Python 3",
   "language": "python",
   "name": "python3"
  },
  "language_info": {
   "codemirror_mode": {
    "name": "ipython",
    "version": 3
   },
   "file_extension": ".py",
   "mimetype": "text/x-python",
   "name": "python",
   "nbconvert_exporter": "python",
   "pygments_lexer": "ipython3",
   "version": "3.6.5"
  }
 },
 "nbformat": 4,
 "nbformat_minor": 1
}
